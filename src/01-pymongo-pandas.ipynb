{
 "cells": [
  {
   "cell_type": "markdown",
   "id": "851c0ecf",
   "metadata": {},
   "source": [
    "### Imports"
   ]
  },
  {
   "cell_type": "code",
   "execution_count": null,
   "id": "86ed9e70",
   "metadata": {},
   "outputs": [],
   "source": [
    "# %cd /path/to/working_dir"
   ]
  },
  {
   "cell_type": "code",
   "execution_count": null,
   "id": "b2e7fc51",
   "metadata": {},
   "outputs": [],
   "source": [
    "import datetime\n",
    "import pandas as pd\n",
    "import db_client"
   ]
  },
  {
   "cell_type": "code",
   "execution_count": null,
   "id": "e6ff5309",
   "metadata": {},
   "outputs": [],
   "source": [
    "client = db_client.get_db_client()\n",
    "db = client.business\n",
    "collection = db.rating_over_time"
   ]
  },
  {
   "cell_type": "markdown",
   "id": "08612d22",
   "metadata": {},
   "source": [
    "### Mongo Query "
   ]
  },
  {
   "cell_type": "code",
   "execution_count": null,
   "id": "97b3200b",
   "metadata": {},
   "outputs": [],
   "source": [
    "dataset = list(\n",
    "    collection.aggregate(\n",
    "        [\n",
    "            {\n",
    "                \"$project\": {\n",
    "                    \"date\": {\n",
    "                        \"$dateToString\": {\"format\": \"%Y-%m\", \"date\": \"$timestamp\"}\n",
    "                    },\n",
    "                    \"cuisine\": \"$metadata.cuisine\",\n",
    "                    \"rating\": \"$rating\",\n",
    "                }\n",
    "            },\n",
    "            {\n",
    "                \"$group\": {\n",
    "                    \"_id\": {\"cuisine\": \"$cuisine\", \"date\": \"$date\"},\n",
    "                    \"average\": {\"$avg\": \"$rating\"},\n",
    "                }\n",
    "            },\n",
    "            {\"$addFields\": {\"cuisine\": \"$_id.cuisine\"}},\n",
    "            {\"$addFields\": {\"date\": \"$_id.date\"}},\n",
    "            {\"$sort\": {\"date\": 1}},\n",
    "        ]\n",
    "    )\n",
    ")"
   ]
  },
  {
   "cell_type": "code",
   "execution_count": null,
   "id": "2925e228",
   "metadata": {},
   "outputs": [],
   "source": [
    "dataset[:3]"
   ]
  },
  {
   "cell_type": "markdown",
   "id": "ed07607c",
   "metadata": {},
   "source": [
    "### Convert to Pandas"
   ]
  },
  {
   "cell_type": "code",
   "execution_count": null,
   "id": "730649c9",
   "metadata": {},
   "outputs": [],
   "source": [
    "df = pd.DataFrame(dataset)\n",
    "df.head()"
   ]
  },
  {
   "cell_type": "code",
   "execution_count": null,
   "id": "ee0fa271",
   "metadata": {},
   "outputs": [],
   "source": [
    "df[\"date\"] = pd.to_datetime(df[\"date\"])\n",
    "df = df[[\"date\", \"cuisine\", \"average\"]]\n",
    "df = df.set_index(\"date\")\n",
    "df.head().round(2)"
   ]
  },
  {
   "cell_type": "code",
   "execution_count": null,
   "id": "640f787f",
   "metadata": {},
   "outputs": [],
   "source": [
    "df.head(n=10).round(2)"
   ]
  },
  {
   "cell_type": "code",
   "execution_count": null,
   "id": "a0e4d0d1",
   "metadata": {},
   "outputs": [],
   "source": [
    "df.groupby(\"cuisine\")[\"average\"].plot(legend=True)"
   ]
  },
  {
   "cell_type": "markdown",
   "id": "2f0a4894",
   "metadata": {},
   "source": [
    "### Mongo Query"
   ]
  },
  {
   "cell_type": "code",
   "execution_count": null,
   "id": "05013725",
   "metadata": {},
   "outputs": [
    {
     "name": "stdout",
     "output_type": "stream",
     "text": [
      "2025-03-21\n"
     ]
    }
   ],
   "source": [
    "DAYS_BACK = 100\n",
    "\n",
    "delta = datetime.datetime.now() - datetime.timedelta(days=DAYS_BACK)\n",
    "print(f\"{delta:%Y-%m-%d}\")\n",
    "\n",
    "\n",
    "\n",
    "\n",
    "results = list(\n",
    "\n",
    "    collection.aggregate(\n",
    "\n",
    "        [\n",
    "            {\n",
    "\n",
    "                \"$match\": {\n",
    "\n",
    "                    \"timestamp\": {\n",
    "\n",
    "                        \"$gte\": delta,\n",
    "\n",
    "                        # \"$lte\": datetime.datetime.now(),\n",
    "                    }\n",
    "                }\n",
    "            },\n",
    "            {\n",
    "\n",
    "                \"$project\": {\n",
    "                    \"date\": {\n",
    "\n",
    "                        \"$dateToString\": {\"format\": \"%Y-%m\", \"date\": \"$timestamp\"}\n",
    "                    },\n",
    "\n",
    "                    \"cuisine\": \"$metadata.cuisine\",\n",
    "\n",
    "                    \"rating\": \"$rating\",\n",
    "                }\n",
    "            },\n",
    "            {\n",
    "\n",
    "                \"$group\": {\n",
    "\n",
    "                    \"_id\": {\"cuisine\": \"$cuisine\", \"date\": \"$date\"},\n",
    "\n",
    "                    \"avg\": {\"$avg\": \"$rating\"},\n",
    "                }\n",
    "            },\n",
    "\n",
    "            {\"$addFields\": {\"cuisine\": \"$_id.cuisine\"}},\n",
    "\n",
    "            {\"$addFields\": {\"date\": \"$_id.date\"}},\n",
    "\n",
    "            {\"$sort\": {\"date\": 1}},\n",
    "\n",
    "        ]\n",
    "\n",
    "    )\n",
    "\n",
    ")"
   ]
  },
  {
   "cell_type": "markdown",
   "id": "3f47465a",
   "metadata": {},
   "source": [
    "### Pandas"
   ]
  },
  {
   "cell_type": "code",
   "execution_count": null,
   "id": "106d8d00",
   "metadata": {},
   "outputs": [],
   "source": [
    "df = pd.DataFrame(results)\n",
    "df[\"date\"] = pd.to_datetime(df[\"date\"])\n",
    "df = df[[\"date\", \"cuisine\", \"avg\"]]\n",
    "df = df.set_index(\"date\")"
   ]
  },
  {
   "cell_type": "code",
   "execution_count": null,
   "id": "8a381643",
   "metadata": {},
   "outputs": [],
   "source": [
    "# df.groupby(\"cuisine\")[\"avg\"].plot(legend=True)"
   ]
  },
  {
   "cell_type": "markdown",
   "id": "a2349176",
   "metadata": {},
   "source": [
    "### Export Chart"
   ]
  },
  {
   "cell_type": "code",
   "execution_count": null,
   "id": "55ec3aff",
   "metadata": {},
   "outputs": [],
   "source": [
    "# group_data = df.groupby(\"cuisine\")[\"avg\"]\n",
    "# group_plot = group_data.plot(legend=True, figsize=(15,5));\n",
    "\n",
    "group_data = df.groupby(\"cuisine\")\n",
    "# group_plot = group_data.plot(legend=True, figsize=(15, 5))\n",
    "len(group_data)"
   ]
  },
  {
   "cell_type": "code",
   "execution_count": null,
   "id": "146320a4",
   "metadata": {},
   "outputs": [],
   "source": [
    "# fig = group_plot[0].get_figure()\n",
    "# fig"
   ]
  },
  {
   "cell_type": "code",
   "execution_count": null,
   "id": "3c29b961",
   "metadata": {},
   "outputs": [],
   "source": []
  }
 ],
 "metadata": {
  "kernelspec": {
   "display_name": "ts-pymongo",
   "language": "python",
   "name": "python3"
  },
  "language_info": {
   "codemirror_mode": {
    "name": "ipython",
    "version": 3
   },
   "file_extension": ".py",
   "mimetype": "text/x-python",
   "name": "python",
   "nbconvert_exporter": "python",
   "pygments_lexer": "ipython3",
   "version": "3.12.9"
  }
 },
 "nbformat": 4,
 "nbformat_minor": 5
}
